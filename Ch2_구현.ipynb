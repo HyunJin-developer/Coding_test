{
  "nbformat": 4,
  "nbformat_minor": 0,
  "metadata": {
    "colab": {
      "provenance": [],
      "authorship_tag": "ABX9TyN4pciSRNWLSq4WuwrWKKCS",
      "include_colab_link": true
    },
    "kernelspec": {
      "name": "python3",
      "display_name": "Python 3"
    },
    "language_info": {
      "name": "python"
    }
  },
  "cells": [
    {
      "cell_type": "markdown",
      "metadata": {
        "id": "view-in-github",
        "colab_type": "text"
      },
      "source": [
        "<a href=\"https://colab.research.google.com/github/HyunJin-developer/Coding_test/blob/main/Ch2_%EA%B5%AC%ED%98%84.ipynb\" target=\"_parent\"><img src=\"https://colab.research.google.com/assets/colab-badge.svg\" alt=\"Open In Colab\"/></a>"
      ]
    },
    {
      "cell_type": "markdown",
      "source": [
        "# (1) 아이디어를 코드로 바꾸는 구현\n",
        "\n",
        "##피지컬로 승부하기\n",
        "\n",
        "코딩 테스트에서 구현(Implementation)이란 '머리속에 있는 알고리즘을 소스코드로 바꾸는 과정'이다.\n",
        "\n",
        "이 책에서는 완전 탐색, 시뮬레이션 유형을 모두 '구현' 유형으로 묶어서 다루고 있다. 완전 탐색은 모든 경우의 수를 주저 없이 다 계산하는 해결 방법을 의미하고, 시뮬레이션은 문제에서 제시한 알고리즘을 한 단계씩 차례대로 직접 수행해야 하는 문제 유형이다.\n",
        "\n",
        "##구현 시 고려해야 할 메모리 제약 사항\n",
        "\n",
        "C/C++ 에서 고려해야 하는 사항이며, long long 이상의 자료형을 문제로 잘 다루지 않는다. 파이썬에서는 프로그래머가 직접 자료형을 지정할 필요가 없으며 매우 큰 수의 연산 또한 기본으로 지원한다. 따라서 파이썬을 이용하는 독자라면 자료형의 표현 범위 제한에 대해 깊게 이해하고 있지 않아도 괜찮다.\n",
        "**다만, 파이썬에서의 실수형 변수는 다른 언어와 마찬가지로 유효숫자에 따라서 연산 결과가 원하는 값이 나오지 않을 수 있다는 점을 유의하자.**\n",
        "\n",
        "##파이썬에서 리스트 크기\n",
        "파이썬에서 여러 개의 변수를 사용할 때는 리스트를 이용하는데, 리스트의 메모리 제한을 고려해야 한다. 대채로 코딩 테스트에서는 128 MB ~ 512 MB로 메모리를 제한하는 경우가 많다. 파이썬에서는 별도의 자료형을 명시해줄 필요는 없지만 integer 하나 당 1byte 만큼 메모리를 차지한다.\n",
        "\n",
        "파이썬은 다른 언어에 비해서 구현상 복잡함이 적은 편이지만, 데이터 처리량이 많을 때는 꼭 메모리 제한을 고려해야 한다. **리스트를 여러 개 선언하고, 그중에서 크기가 1,000만 이상인 리스트가 있다면 메모리 용량 제한으로 문제를 풀 수 없게 되는 경우도 있다는 점을 기억한다.(int형 1,000만의 메모리 사용량 : 약 40MB)**\n",
        "\n",
        "하지만, 이런 문제 또한 출제의 복잡성 등의 이유로 문제 출제가 드물다. 따라서 일반적인 코딩 테스트 수준에서는 메모리 사용량 제한보다 더 적은 크기의 메모리를 사용해야 한다는 점 정도만 기억하면 된다.\n",
        "\n"
      ],
      "metadata": {
        "id": "ccXMV9Macg3Y"
      }
    },
    {
      "cell_type": "markdown",
      "source": [
        "##채점 환경\n",
        "실제 온라인 저지 서비스에서 사용되는 채점 환경의 시스템 제한은 어떤지 알아보자.\n",
        "\n",
        "문제에서 요구하는 메모리 제한과 실행 시간 제한은 코딩 테스트를 출제하는 기관마다, 문제마다 조금씩 다르다. 출제자가 매우 빠르게 동작하는 프로그램을 원한다면 시간 제한은 더욱 짧을 것이다.\n",
        "\n",
        "파이썬은 C/C++에 비해 동작 속도가 느리다. 2020년을 기준으로 파이썬 3.7로 코드를 작성할 때, 자신의 코드가 1초에 2,000만 번의 연산을 수행한다고 가정하고 문제를 풀면 실행 시간 제한에 안정적이다. 일반적인 기업 코딩 테스트 환경에서는 파이썬으로 제출한 코드가 1초에 2,000만 번의 연산을 수행한다고 가정하면 크게 무리가 없다는 점만 기억하자.\n",
        "\n",
        "**시간 제한이 1초이고, 데이터의 개수가 100만 개인 문제가 있따면 일반적으로 시간 복잡도 O(NlogN) 이내의 알고리즘을 이용하여 문제를 풀어야 한다. 실제로 N = 1,000,000 일 때 NlogN은 약 20,000,000이기 떄문이다.**\n",
        "\n",
        "## 구현 문제에 접근하는 방법\n",
        "보통 구현 유형의 문제는 사소한 입력 조건 등을 문제에 명시해주며 문제의 길이가 꽤 긴 편이다. 문제의 길이를 보고 지레 겁먹는데, 고차원적인 사고력을 요구하는 문제는 나오지 않는 편이라 문법에 익숙하다면 오히려 쉽게 풀 수 있다.\n",
        "\n"
      ],
      "metadata": {
        "id": "RV5lenS6ykLS"
      }
    },
    {
      "cell_type": "markdown",
      "source": [
        "### 예제 4-1 상하좌우\n",
        "문제 내용은 책을 참조"
      ],
      "metadata": {
        "id": "-GviqmJXpyKA"
      }
    },
    {
      "cell_type": "code",
      "execution_count": null,
      "metadata": {
        "colab": {
          "base_uri": "https://localhost:8080/"
        },
        "id": "0fTWd9BnbrLu",
        "outputId": "1a31fb60-89ff-425a-e25b-d08f698fce4e"
      },
      "outputs": [
        {
          "output_type": "stream",
          "name": "stdout",
          "text": [
            "5\n",
            "R R R U D D \n",
            "2\n",
            "3\n",
            "3 4\n"
          ]
        }
      ],
      "source": [
        "n = int(input())\n",
        "x, y = 1, 1\n",
        "plans = input().split()\n",
        "\n",
        "# up, down\n",
        "dx = [0, 0, -1, 1]\n",
        "dy = [-1, 1, 0, 0]\n",
        "move_types = ['L', 'R', 'U', 'D']\n",
        "\n",
        "# 이동 계획을 하나씩 확인\n",
        "for plan  in plans:\n",
        "  # 이동 후 좌표 구하기\n",
        "  for i in range(len(move_types)):\n",
        "    if plan == move_types[i]:\n",
        "      nx = x + dx[i]\n",
        "      # 안될 때는 디버그 ~\n",
        "      '''\n",
        "      ny = y + dy[i]\n",
        "      if plan == 'D':\n",
        "        print(nx)\n",
        "        '''\n",
        "  # 공간을 벗어나는 경우 무시\n",
        "  if nx < 1 or ny < 1 or nx > n or ny > n:\n",
        "    continue\n",
        "  # 이동 수행\n",
        "  x, y = nx, ny\n",
        "\n",
        "print(x, y)"
      ]
    },
    {
      "cell_type": "markdown",
      "source": [
        "예제 4-2 시각\n",
        "정수 N이 입력되면 00시 00분 00초부터 N시 59분 59초까지의 모든 시각 중에서 3이 하나라도 포함되는 모든 경우의 수를 구하는 프로그램을 작성하시오. 예를 들어 1을 입력했을 때 다음은 3이 하나라도 포함되어 있으므로 세어야 하는 시각이다.\n",
        "\n",
        "[입력 조건]\n",
        "\n",
        "첫째 줄에 정수 N이 입력된다. (0 <_ N <_ 23)\n",
        "\n",
        "[출력 조건]\n",
        "\n",
        "00시 00분 00초부터 N시 59분 59초까지의 모든 시각 중에서 3이 하나라도 포함되는 모든 경우의 수를 출력한다.\n"
      ],
      "metadata": {
        "id": "eAD40UYk0CTy"
      }
    },
    {
      "cell_type": "code",
      "source": [
        "H = int(input())\n",
        "cnt = 0\n",
        "\n",
        "for i in range(H + 1) :\n",
        "  for j in range(60) :\n",
        "    for k in range(60) :\n",
        "      if '3' in str(i) + str(j) + str(k):\n",
        "        cnt += 1\n",
        "print(cnt)"
      ],
      "metadata": {
        "colab": {
          "base_uri": "https://localhost:8080/"
        },
        "id": "0i_u_8WZvrBR",
        "outputId": "bbb5c007-d910-4705-84f6-ab7bfbb34140"
      },
      "execution_count": null,
      "outputs": [
        {
          "output_type": "stream",
          "name": "stdout",
          "text": [
            "5\n",
            "11475\n"
          ]
        }
      ]
    },
    {
      "cell_type": "markdown",
      "source": [
        "# (2) 실전 문제 : 왕실의 나이트\n",
        "행복 왕국의 왕실 정원은 체스판과 같은 8 X 8 좌표 평면이다. 왕실 정원의 특정한 한 칸에 나이트가 서 있다. 나이트는 매우 충성스러운 신하로서 매일 무술을 연마한다.\n",
        "\n",
        "나이트는 말을 타고 있기 때문에 이동을 할 때는 L자 형태로만 이동할 수 있으며 정원 밖으로는 나갈 수 없다. 나이트는 특정한 위치에서 다음과 같은 2가지 경우로 이동할 수 있다.\n",
        "\n",
        "1. 수평으로 두 칸 이동한 뒤에 수직으로 한 칸 이동하기\n",
        "2. 수직으로 두 칸 이동한 뒤에 수평으로 한 칸 이동하기\n",
        "\n",
        "행 위치를 표현할 때는 1부터 8로 표현하며, 열은 a부터 h로 표현한다."
      ],
      "metadata": {
        "id": "6bT68LHodJJQ"
      }
    },
    {
      "cell_type": "code",
      "source": [
        "input_data = input()\n",
        "row = int(input_data[1])\n",
        "# 하나의 문자를 인자로 받고 해당 문자에 해당하는 유니코드 정수를 반환\n",
        "column = int(ord(input_data[0])) - int(ord('a')) + 1\n",
        "\n",
        "steps = [(-2, -1), (-1, -2), (1, -2), (2, -1), (2, 1), (1, 2), (-1, 2), (-2, 1)]\n",
        "\n",
        "result = 0\n",
        "\n",
        "for step in steps :\n",
        "  # 이동하고자 하는 위치 확인\n",
        "  next_row = row + step[0]\n",
        "  next_column = column + step[1]\n",
        "  # 해당 위치로 이동이 가능하다면 카운트 증가\n",
        "  if next_row >= 1 and next_row <= 8 and next_column >= 1 and next_column <= 8 :\n",
        "    result += 1\n",
        "print(result)"
      ],
      "metadata": {
        "id": "mt_yz4Ku5eOH",
        "colab": {
          "base_uri": "https://localhost:8080/"
        },
        "outputId": "f3153068-14cd-47d3-f3c4-a7ad1aa918dc"
      },
      "execution_count": null,
      "outputs": [
        {
          "output_type": "stream",
          "name": "stdout",
          "text": [
            "d5\n",
            "8\n"
          ]
        }
      ]
    },
    {
      "cell_type": "markdown",
      "source": [
        "# (3) 게임 개발\n",
        "현민이는 게임 캐릭터가 맵 안에서 움직이는 시스템을 개발 중이다. 캐릭터가 있는 장소는 1 X 1 크기의 정사각형으로 이뤄진 N X M 크기의 직사각형으로, 각각의 칸은 육지 또는 바다이다. 캐릭터는 동서남북 중 한 곳을 바라본다.\n",
        "\n",
        "맵의 각 칸은 (A,B)로 나타낼 수 있고, A는 북쪽으로부터 떨어진 칸의 개수, B는 서쪽으로부터 떨어진 칸의 개수이다. 캐릭터는 상하좌우로 움직일 수 있고, 바다로 되어 있는 공간에는 갈 수 없다. 캐릭터의 움직임을 설정하기 위해 정해놓은 매뉴얼은 이러하다.\n",
        "1. 현재 위치에서 현재 방향을 기준으로 왼쪽 방향(반시계 방향으로 90도 회전한 방향)부터 차례대로 갈 곳을 정한다.\n",
        "2. 캐릭터의 바로 왼쪽 방향에 아직 가보지 않은 칸이 존재한다면, 왼쪽 방향으로 회전한 다음 왼쪽으로 한 칸을 전진한다. 왼쪽 방향에 가보지 않은 칸이 없다면, 왼쪾 방향으로 회전만 수행하고 1단계로 돌아간다.\n",
        "3. 만약 네 방향 모두 이미 가본 칸이거나 바다로 되어 있는 칸인 경우에는, 바라보는 방향을 유지한 채로 한 칸 뒤로 가고 1단계로 돌아간다. 단, 이때 뒤쪽 방향이 바다인 칸이라 뒤로 갈 수 없는 경우에는 움직임을 멈춘다."
      ],
      "metadata": {
        "id": "8awWCX25XBxV"
      }
    },
    {
      "cell_type": "code",
      "source": [],
      "metadata": {
        "id": "7D7T-OdbgOcu"
      },
      "execution_count": null,
      "outputs": []
    },
    {
      "cell_type": "code",
      "source": [],
      "metadata": {
        "id": "2QjXjZ0CtwDW"
      },
      "execution_count": null,
      "outputs": []
    }
  ]
}